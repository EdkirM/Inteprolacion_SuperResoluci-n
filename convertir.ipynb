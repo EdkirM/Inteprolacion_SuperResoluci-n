{
 "cells": [
  {
   "cell_type": "code",
   "execution_count": 3,
   "metadata": {},
   "outputs": [
    {
     "name": "stdout",
     "output_type": "stream",
     "text": [
      "Imagen guardada en: HOLA\\img_012_SRF_2_bicubic.png\n"
     ]
    }
   ],
   "source": [
    "import numpy as np\n",
    "from PIL import Image\n",
    "import os\n",
    "\n",
    "def npy_to_image(npy_file, output_folder):\n",
    "    # Cargar el archivo .npy\n",
    "    data = np.load(npy_file)\n",
    "    \n",
    "    # Asegurarse de que los datos están en el rango 0-255 y convertir a tipo uint8\n",
    "    if data.dtype != np.uint8:\n",
    "        data = ((data - np.min(data)) / (np.max(data) - np.min(data)) * 255).astype(np.uint8)\n",
    "    \n",
    "    # Crear una imagen a partir del array\n",
    "    image = Image.fromarray(data)\n",
    "    \n",
    "    # Nombre del archivo de salida\n",
    "    base_name = os.path.basename(npy_file)\n",
    "    output_file = os.path.join(output_folder, os.path.splitext(base_name)[0] + '.png')\n",
    "    \n",
    "    # Guardar la imagen\n",
    "    image.save(output_file)\n",
    "    print(f\"Imagen guardada en: {output_file}\")\n",
    "\n",
    "# Ejemplo de uso\n",
    "npy_file = 'dataset/test_lr/img_012_SRF_2_bicubic.npy'  # Cambia esto a la ruta de tu archivo .npy\n",
    "output_folder = 'HOLA'  # Cambia esto a la ruta de tu directorio de salida\n",
    "\n",
    "npy_to_image(npy_file, output_folder)\n"
   ]
  }
 ],
 "metadata": {
  "kernelspec": {
   "display_name": "Python 3",
   "language": "python",
   "name": "python3"
  },
  "language_info": {
   "codemirror_mode": {
    "name": "ipython",
    "version": 3
   },
   "file_extension": ".py",
   "mimetype": "text/x-python",
   "name": "python",
   "nbconvert_exporter": "python",
   "pygments_lexer": "ipython3",
   "version": "3.11.5"
  }
 },
 "nbformat": 4,
 "nbformat_minor": 2
}
